{
 "cells": [
  {
   "cell_type": "code",
   "execution_count": 6,
   "metadata": {},
   "outputs": [],
   "source": [
    "#Auteur : Gaël LODE\n",
    "#On relance ici la recherche des auteurs\n",
    "import re\n",
    "import numpy as np\n",
    "import pandas as pd\n",
    "import os\n",
    "import ff\n",
    "from datetime import datetime"
   ]
  },
  {
   "cell_type": "code",
   "execution_count": 9,
   "metadata": {},
   "outputs": [
    {
     "name": "stderr",
     "output_type": "stream",
     "text": [
      "C:\\Users\\quest\\anaconda3\\lib\\site-packages\\ipykernel_launcher.py:15: SettingWithCopyWarning: \n",
      "A value is trying to be set on a copy of a slice from a DataFrame\n",
      "\n",
      "See the caveats in the documentation: https://pandas.pydata.org/pandas-docs/stable/user_guide/indexing.html#returning-a-view-versus-a-copy\n",
      "  from ipykernel import kernelapp as app\n",
      "C:\\Users\\quest\\anaconda3\\lib\\site-packages\\ipykernel_launcher.py:17: SettingWithCopyWarning: \n",
      "A value is trying to be set on a copy of a slice from a DataFrame\n",
      "\n",
      "See the caveats in the documentation: https://pandas.pydata.org/pandas-docs/stable/user_guide/indexing.html#returning-a-view-versus-a-copy\n"
     ]
    }
   ],
   "source": [
    "HPData = pd.read_csv(r'finalHPData.csv') # on ouvre le fichier qu'on a créé dans traitement\n",
    "#Colonne Author\n",
    "#Certaint auteur n'ont pas été correctement entré dans la table (il y en a environ 2000 dans note échantillons), on va les remplacer par Unknonw author pour le moment\n",
    "for i in range(len(HPData['Author'])):\n",
    "    val = HPData.iloc[i]['Author']\n",
    "    if(val==\"reviews\"):\n",
    "        url = HPData['Story_link'][i]\n",
    "        urlsplit = re.split('/',url)\n",
    "        id = urlsplit[4]\n",
    "        a = ff.Story(url,int(id)) # fanfiction API\n",
    "        try: # certaines fanfiction ne sont plus disponible il est donc impossible de retrouvé l'auteur original\n",
    "            a.download_data(5) \n",
    "            b = a.get_user()\n",
    "            b.download_data(5)\n",
    "            HPData['Author'][i] = b.username\n",
    "        except AttributeError: # si la fanfiction n'est plus accessible alors une AttributeErrir ou ReadTimeoutError est levé\n",
    "            HPData['Author'][i] = \"Unknown author\"\n",
    "        except ReadTimeoutError:\n",
    "            HPData['Author'][i] = \"Unknown author\""
   ]
  },
  {
   "cell_type": "code",
   "execution_count": 10,
   "metadata": {},
   "outputs": [],
   "source": [
    "HPData.to_csv(\"finalHPData.csv\", index = False)"
   ]
  },
  {
   "cell_type": "code",
   "execution_count": null,
   "metadata": {},
   "outputs": [],
   "source": []
  }
 ],
 "metadata": {
  "kernelspec": {
   "display_name": "Python 3",
   "language": "python",
   "name": "python3"
  },
  "language_info": {
   "codemirror_mode": {
    "name": "ipython",
    "version": 3
   },
   "file_extension": ".py",
   "mimetype": "text/x-python",
   "name": "python",
   "nbconvert_exporter": "python",
   "pygments_lexer": "ipython3",
   "version": "3.7.6"
  }
 },
 "nbformat": 4,
 "nbformat_minor": 4
}
