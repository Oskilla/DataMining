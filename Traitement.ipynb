{
 "cells": [
  {
   "cell_type": "code",
   "execution_count": 1,
   "metadata": {},
   "outputs": [],
   "source": [
    "# importations des librairies numpy pandas os et re\n",
    "#importation de la fonction datetime\n",
    "import re\n",
    "import numpy as np\n",
    "import pandas as pd\n",
    "import os\n",
    "from datetime import datetime"
   ]
  },
  {
   "cell_type": "code",
   "execution_count": 2,
   "metadata": {},
   "outputs": [],
   "source": [
    "#récupération du dataset\n",
    "HPData = pd.read_csv(r\"5000HPData.csv\")\n",
    "HPData.rename(columns = {'author' : 'Author'}, inplace = True)\n",
    "HPData.rename(columns = {'characters' : 'Characters'}, inplace = True)\n",
    "HPData.rename(columns = {'genre' : 'Genre'}, inplace = True)\n",
    "HPData.rename(columns = {'language' : 'Language'}, inplace = True)\n",
    "HPData.rename(columns = {'rating' : 'Rating'}, inplace = True)\n",
    "HPData.rename(columns = {'story_link' : 'Story_link'}, inplace = True)\n",
    "HPData.rename(columns = {'synopsis' : 'Synopsis'}, inplace = True)\n",
    "HPData.rename(columns = {'title' : 'Title'}, inplace = True)\n",
    "HPData.rename(columns = {'published_mmyy' : 'Published_mmyy'}, inplace = True)\n",
    "HPData.rename(columns = {'pairing' : 'Pairing'}, inplace = True)"
   ]
  },
  {
   "cell_type": "code",
   "execution_count": 3,
   "metadata": {},
   "outputs": [],
   "source": [
    "#retirer toutes les virgules dans les colonnes Favs, Follows et Words\n",
    "HPData['Favs'] = HPData['Favs'].str.replace(',','')\n",
    "HPData['Follows'] = HPData['Follows'].str.replace(',','')\n",
    "HPData['Words'] = HPData['Words'].str.replace(',','')\n",
    "#retirer les espaces dans Published, Updated et Published_mmyy\n",
    "HPData['Published'] = HPData['Published'].str.replace(' ','')\n",
    "HPData['Updated'] = HPData['Updated'].str.replace(' ','')\n",
    "HPData['Published_mmyy'] = HPData['Published_mmyy'].str.replace(' ','')"
   ]
  },
  {
   "cell_type": "code",
   "execution_count": 4,
   "metadata": {},
   "outputs": [
    {
     "name": "stderr",
     "output_type": "stream",
     "text": [
      "C:\\Users\\quest\\anaconda3\\lib\\site-packages\\ipykernel_launcher.py:10: SettingWithCopyWarning: \n",
      "A value is trying to be set on a copy of a slice from a DataFrame\n",
      "\n",
      "See the caveats in the documentation: https://pandas.pydata.org/pandas-docs/stable/user_guide/indexing.html#returning-a-view-versus-a-copy\n",
      "  # Remove the CWD from sys.path while we load stuff.\n",
      "C:\\Users\\quest\\anaconda3\\lib\\site-packages\\ipykernel_launcher.py:7: SettingWithCopyWarning: \n",
      "A value is trying to be set on a copy of a slice from a DataFrame\n",
      "\n",
      "See the caveats in the documentation: https://pandas.pydata.org/pandas-docs/stable/user_guide/indexing.html#returning-a-view-versus-a-copy\n",
      "  import sys\n"
     ]
    }
   ],
   "source": [
    "#Colonne Favs\n",
    "#Convertir les string en int et remplacer les NaN en 0\n",
    "for i in range(len(HPData['Favs'])):\n",
    "    val = HPData.iloc[i]['Favs']\n",
    "    if (type(val)==float):\n",
    "        val = 0\n",
    "        HPData['Favs'][i] = val\n",
    "    else:\n",
    "        val = int(val)\n",
    "        HPData['Favs'][i] = val"
   ]
  },
  {
   "cell_type": "code",
   "execution_count": 5,
   "metadata": {},
   "outputs": [
    {
     "name": "stderr",
     "output_type": "stream",
     "text": [
      "C:\\Users\\quest\\anaconda3\\lib\\site-packages\\ipykernel_launcher.py:7: SettingWithCopyWarning: \n",
      "A value is trying to be set on a copy of a slice from a DataFrame\n",
      "\n",
      "See the caveats in the documentation: https://pandas.pydata.org/pandas-docs/stable/user_guide/indexing.html#returning-a-view-versus-a-copy\n",
      "  import sys\n",
      "C:\\Users\\quest\\anaconda3\\lib\\site-packages\\ipykernel_launcher.py:10: SettingWithCopyWarning: \n",
      "A value is trying to be set on a copy of a slice from a DataFrame\n",
      "\n",
      "See the caveats in the documentation: https://pandas.pydata.org/pandas-docs/stable/user_guide/indexing.html#returning-a-view-versus-a-copy\n",
      "  # Remove the CWD from sys.path while we load stuff.\n"
     ]
    }
   ],
   "source": [
    "#Colonne Follows\n",
    "#Convertir les string en int et remplacer les NaN en 0\n",
    "for i in range(len(HPData['Follows'])):\n",
    "    val = HPData.iloc[i]['Follows']\n",
    "    if (type(val)==float):\n",
    "        val = 0\n",
    "        HPData['Follows'][i] = val\n",
    "    else:\n",
    "        val = int(val)\n",
    "        HPData['Follows'][i] = val"
   ]
  },
  {
   "cell_type": "code",
   "execution_count": 6,
   "metadata": {},
   "outputs": [
    {
     "name": "stderr",
     "output_type": "stream",
     "text": [
      "C:\\Users\\quest\\anaconda3\\lib\\site-packages\\ipykernel_launcher.py:6: SettingWithCopyWarning: \n",
      "A value is trying to be set on a copy of a slice from a DataFrame\n",
      "\n",
      "See the caveats in the documentation: https://pandas.pydata.org/pandas-docs/stable/user_guide/indexing.html#returning-a-view-versus-a-copy\n",
      "  \n"
     ]
    }
   ],
   "source": [
    "#Colonne Words\n",
    "#Convertir les string en int\n",
    "for i in range(len(HPData['Words'])):\n",
    "    val = HPData.iloc[i]['Words']\n",
    "    val = int(val)\n",
    "    HPData['Words'][i] = val"
   ]
  },
  {
   "cell_type": "code",
   "execution_count": 7,
   "metadata": {},
   "outputs": [
    {
     "name": "stderr",
     "output_type": "stream",
     "text": [
      "C:\\Users\\quest\\anaconda3\\lib\\site-packages\\ipykernel_launcher.py:5: SettingWithCopyWarning: \n",
      "A value is trying to be set on a copy of a slice from a DataFrame\n",
      "\n",
      "See the caveats in the documentation: https://pandas.pydata.org/pandas-docs/stable/user_guide/indexing.html#returning-a-view-versus-a-copy\n",
      "  \"\"\"\n"
     ]
    }
   ],
   "source": [
    "#Colonne Published\n",
    "#Remplacer les string par datetime\n",
    "for i in range(len(HPData['Published'])):\n",
    "    val = HPData.iloc[i]['Published']\n",
    "    HPData['Published'][i] = datetime.strptime(val,'%m/%d/%Y').date()"
   ]
  },
  {
   "cell_type": "code",
   "execution_count": 8,
   "metadata": {},
   "outputs": [
    {
     "name": "stderr",
     "output_type": "stream",
     "text": [
      "C:\\Users\\quest\\anaconda3\\lib\\site-packages\\ipykernel_launcher.py:6: SettingWithCopyWarning: \n",
      "A value is trying to be set on a copy of a slice from a DataFrame\n",
      "\n",
      "See the caveats in the documentation: https://pandas.pydata.org/pandas-docs/stable/user_guide/indexing.html#returning-a-view-versus-a-copy\n",
      "  \n",
      "C:\\Users\\quest\\anaconda3\\lib\\site-packages\\ipykernel_launcher.py:8: SettingWithCopyWarning: \n",
      "A value is trying to be set on a copy of a slice from a DataFrame\n",
      "\n",
      "See the caveats in the documentation: https://pandas.pydata.org/pandas-docs/stable/user_guide/indexing.html#returning-a-view-versus-a-copy\n",
      "  \n"
     ]
    }
   ],
   "source": [
    "#Colonne Updated\n",
    "#Remplacer Tous ce qui n'est pas une date dans un format correcte par la date de publication\n",
    "for i in range(len(HPData['Updated'])):\n",
    "    val = HPData.iloc[i]['Updated']\n",
    "    if(type(val)==float): #NaN\n",
    "        HPData['Updated'][i] = HPData['Published'][i]\n",
    "    elif(type(val) == str and re.fullmatch('[0-9][0-9]/[0-9][0-9]/20[0-1][0-9]',val)==None): #1/2, 25m, etc...\n",
    "        HPData['Updated'][i] = HPData['Published'][i]"
   ]
  },
  {
   "cell_type": "code",
   "execution_count": 9,
   "metadata": {},
   "outputs": [
    {
     "name": "stderr",
     "output_type": "stream",
     "text": [
      "C:\\Users\\quest\\anaconda3\\lib\\site-packages\\ipykernel_launcher.py:8: SettingWithCopyWarning: \n",
      "A value is trying to be set on a copy of a slice from a DataFrame\n",
      "\n",
      "See the caveats in the documentation: https://pandas.pydata.org/pandas-docs/stable/user_guide/indexing.html#returning-a-view-versus-a-copy\n",
      "  \n",
      "C:\\Users\\quest\\anaconda3\\lib\\site-packages\\ipykernel_launcher.py:6: SettingWithCopyWarning: \n",
      "A value is trying to be set on a copy of a slice from a DataFrame\n",
      "\n",
      "See the caveats in the documentation: https://pandas.pydata.org/pandas-docs/stable/user_guide/indexing.html#returning-a-view-versus-a-copy\n",
      "  \n"
     ]
    }
   ],
   "source": [
    "#Colonne Reviews\n",
    "#Remplacer tous les floats en int\n",
    "for i in range(len(HPData['Reviews'])):\n",
    "    val = HPData.iloc[i]['Reviews']\n",
    "    if(np.isnan(val)): #NaN\n",
    "        HPData['Reviews'][i] = int(0)\n",
    "    else:\n",
    "        HPData['Reviews'][i] = int(val)"
   ]
  },
  {
   "cell_type": "code",
   "execution_count": 10,
   "metadata": {},
   "outputs": [
    {
     "name": "stderr",
     "output_type": "stream",
     "text": [
      "C:\\Users\\quest\\anaconda3\\lib\\site-packages\\ipykernel_launcher.py:7: SettingWithCopyWarning: \n",
      "A value is trying to be set on a copy of a slice from a DataFrame\n",
      "\n",
      "See the caveats in the documentation: https://pandas.pydata.org/pandas-docs/stable/user_guide/indexing.html#returning-a-view-versus-a-copy\n",
      "  import sys\n",
      "C:\\Users\\quest\\anaconda3\\lib\\site-packages\\ipykernel_launcher.py:9: SettingWithCopyWarning: \n",
      "A value is trying to be set on a copy of a slice from a DataFrame\n",
      "\n",
      "See the caveats in the documentation: https://pandas.pydata.org/pandas-docs/stable/user_guide/indexing.html#returning-a-view-versus-a-copy\n",
      "  if __name__ == '__main__':\n"
     ]
    }
   ],
   "source": [
    "#Colonne Characters\n",
    "#supprimer les [ ]\n",
    "for i in range(len(HPData['Characters'])):\n",
    "    val = HPData.iloc[i]['Characters']\n",
    "    if(type(val)== str):\n",
    "        val = re.sub(r'[^A-Za-z.,]', '',val)\n",
    "        HPData['Characters'][i] = val\n",
    "    else:\n",
    "        HPData['Characters'][i] = \"Unspecified Characters\""
   ]
  },
  {
   "cell_type": "code",
   "execution_count": 11,
   "metadata": {},
   "outputs": [
    {
     "name": "stderr",
     "output_type": "stream",
     "text": [
      "C:\\Users\\quest\\anaconda3\\lib\\site-packages\\ipykernel_launcher.py:6: SettingWithCopyWarning: \n",
      "A value is trying to be set on a copy of a slice from a DataFrame\n",
      "\n",
      "See the caveats in the documentation: https://pandas.pydata.org/pandas-docs/stable/user_guide/indexing.html#returning-a-view-versus-a-copy\n",
      "  \n"
     ]
    }
   ],
   "source": [
    "#Colonne Genre\n",
    "#supprimer les NaN\n",
    "for i in range(len(HPData['Genre'])):\n",
    "    val = HPData.iloc[i]['Genre']\n",
    "    if(type(val)!= str):#NaN\n",
    "        HPData['Genre'][i] = \"Unspecified Genre\""
   ]
  },
  {
   "cell_type": "code",
   "execution_count": 12,
   "metadata": {},
   "outputs": [],
   "source": [
    "#Colonne Published_mmyy\n",
    "#pupprimer la colonne\n",
    "del HPData['Published_mmyy']"
   ]
  },
  {
   "cell_type": "code",
   "execution_count": 13,
   "metadata": {},
   "outputs": [
    {
     "name": "stderr",
     "output_type": "stream",
     "text": [
      "C:\\Users\\quest\\anaconda3\\lib\\site-packages\\ipykernel_launcher.py:6: SettingWithCopyWarning: \n",
      "A value is trying to be set on a copy of a slice from a DataFrame\n",
      "\n",
      "See the caveats in the documentation: https://pandas.pydata.org/pandas-docs/stable/user_guide/indexing.html#returning-a-view-versus-a-copy\n",
      "  \n"
     ]
    }
   ],
   "source": [
    "#Colonne pairing\n",
    "#Remplacer les Nan par No specified pairings\n",
    "for i in range(len(HPData['Pairing'])):\n",
    "    val = HPData.iloc[i]['Pairing']\n",
    "    if(type(val)!= str):#NaN\n",
    "        HPData['Pairing'][i] = \"No specified pairings\""
   ]
  },
  {
   "cell_type": "code",
   "execution_count": 14,
   "metadata": {},
   "outputs": [
    {
     "name": "stderr",
     "output_type": "stream",
     "text": [
      "C:\\Users\\quest\\anaconda3\\lib\\site-packages\\ipykernel_launcher.py:6: SettingWithCopyWarning: \n",
      "A value is trying to be set on a copy of a slice from a DataFrame\n",
      "\n",
      "See the caveats in the documentation: https://pandas.pydata.org/pandas-docs/stable/user_guide/indexing.html#returning-a-view-versus-a-copy\n",
      "  \n"
     ]
    }
   ],
   "source": [
    "#Colonne Author\n",
    "#Certaint auteur n'ont pas été correctement entré dans la table (il y en a environ 2000 dans note échantillons), on va les remplacer par wrong author pour le moment\n",
    "for i in range(len(HPData['Author'])):\n",
    "    val = HPData.iloc[i]['Author']\n",
    "    if(val==\"reviews\"):#NaN\n",
    "        HPData['Author'][i] = \"Wrong author\""
   ]
  },
  {
   "cell_type": "code",
   "execution_count": 15,
   "metadata": {},
   "outputs": [],
   "source": [
    "HPData.to_csv(\"finalHPData.csv\", index = False)"
   ]
  }
 ],
 "metadata": {
  "kernelspec": {
   "display_name": "Python 3",
   "language": "python",
   "name": "python3"
  },
  "language_info": {
   "codemirror_mode": {
    "name": "ipython",
    "version": 3
   },
   "file_extension": ".py",
   "mimetype": "text/x-python",
   "name": "python",
   "nbconvert_exporter": "python",
   "pygments_lexer": "ipython3",
   "version": "3.7.6"
  }
 },
 "nbformat": 4,
 "nbformat_minor": 4
}
